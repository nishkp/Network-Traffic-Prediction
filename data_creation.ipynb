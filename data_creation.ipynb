{
 "cells": [
  {
   "cell_type": "code",
   "execution_count": 17,
   "id": "e5e44bd1",
   "metadata": {},
   "outputs": [],
   "source": [
    "import numpy as np\n",
    "import pandas as pd\n",
    "from datetime import datetime, timedelta\n"
   ]
  },
  {
   "cell_type": "code",
   "execution_count": 18,
   "id": "979f56c7",
   "metadata": {},
   "outputs": [],
   "source": [
    "HOST_IPS = {'10.194.224.177', '192.168.0.48'}\n",
    "\n",
    "insta = pd.read_csv('instagram_packet_log.csv')\n",
    "reddit = pd.read_csv('reddit_packet_log.csv')\n",
    "tetris = pd.read_csv('tetris_packet_log.csv')\n",
    "wiki = pd.read_csv('wikipedia_packet_log.csv')\n",
    "wyr = pd.read_csv('wouldyourather_packet_log.csv')\n",
    "yt_browse = pd.read_csv('youtube_browsing_packet_log.csv')\n",
    "yt_watch = pd.read_csv('youtube_watching_packet_log.csv')\n",
    "\n",
    "datasets = {\n",
    "    \"instagram\": insta,\n",
    "    \"reddit\": reddit,\n",
    "    \"tetris\": tetris,\n",
    "    \"wikipedia\": wiki,\n",
    "    \"wouldyourather\": wyr,\n",
    "    \"youtube_browsing\": yt_browse,\n",
    "    \"youtube_watching\": yt_watch\n",
    "}"
   ]
  },
  {
   "cell_type": "code",
   "execution_count": 19,
   "id": "e2b9a7a5",
   "metadata": {},
   "outputs": [],
   "source": [
    "def preprocess(df):\n",
    "    df = df.copy()\n",
    "    df['Timestamp'] = pd.to_datetime(df['Timestamp'])\n",
    "    df.sort_values('Timestamp', inplace=True)\n",
    "    df.reset_index(drop=True, inplace=True)\n",
    "    return df"
   ]
  },
  {
   "cell_type": "code",
   "execution_count": 20,
   "id": "e8c9120c",
   "metadata": {},
   "outputs": [],
   "source": [
    "def extract_features(df, dataset_name):\n",
    "    df = preprocess(df)\n",
    "    results = []\n",
    "    \n",
    "    start_time = df['Timestamp'].min()\n",
    "    end_time = df['Timestamp'].max()\n",
    "\n",
    "    current_start = start_time\n",
    "    while current_start < end_time:\n",
    "        current_end = current_start + timedelta(seconds=5)\n",
    "        window_df = df[(df['Timestamp'] >= current_start) & (df['Timestamp'] < current_end)]\n",
    "\n",
    "        if window_df.empty:\n",
    "            current_start = current_end\n",
    "            continue\n",
    "\n",
    "        sent = window_df[window_df['Source IP'].isin(HOST_IPS)]\n",
    "        recv = window_df[window_df['Destination IP'].isin(HOST_IPS)]\n",
    "\n",
    "        avg_packet_size_sent = sent['Length'].mean()\n",
    "        sd_packet_size_sent = sent['Length'].std()\n",
    "\n",
    "        avg_packet_size_recv = recv['Length'].mean()\n",
    "        sd_packet_size_recv = recv['Length'].std()\n",
    "\n",
    "        def time_deltas(packets):\n",
    "            times = packets['Timestamp'].sort_values().values\n",
    "            if len(times) < 2:\n",
    "                return 0.0, 0.0\n",
    "            deltas = np.diff(times) / np.timedelta64(1, 's')\n",
    "            return np.mean(deltas), np.std(deltas)\n",
    "\n",
    "        avg_time_between_outgoing, sd_time_between_outgoing = time_deltas(sent)\n",
    "        avg_time_between_incoming, sd_time_between_incoming = time_deltas(recv)\n",
    "\n",
    "        number_outgoing = len(sent)\n",
    "        number_incoming = len(recv)\n",
    "        ratio_incoming_to_outgoing = number_incoming / number_outgoing if number_outgoing > 0 else np.nan\n",
    "\n",
    "        results.append({\n",
    "            \"avg_packet_size_sent\": avg_packet_size_sent,\n",
    "            \"sd_packet_size_sent\": sd_packet_size_sent,\n",
    "            \"avg_packet_size_recv\": avg_packet_size_recv,\n",
    "            \"sd_packet_size_recv\": sd_packet_size_recv,\n",
    "            \"avg_time_between_outgoing_packets\": avg_time_between_outgoing,\n",
    "            \"sd_time_between_outgoing_packets\": sd_time_between_outgoing,\n",
    "            \"avg_time_between_incoming_packets\": avg_time_between_incoming,\n",
    "            \"sd_time_between_incoming_packets\": sd_time_between_incoming,\n",
    "            \"ratio_incoming_to_outgoing\": ratio_incoming_to_outgoing,\n",
    "            \"number_incoming\": number_incoming,\n",
    "            \"number_outgoing\": number_outgoing,\n",
    "            \"dataset\": dataset_name\n",
    "        })\n",
    "\n",
    "        current_start = current_end\n",
    "\n",
    "    return results\n"
   ]
  },
  {
   "cell_type": "code",
   "execution_count": 21,
   "id": "95cecf9b",
   "metadata": {},
   "outputs": [],
   "source": [
    "all_features = []\n",
    "\n",
    "for name, df in datasets.items():\n",
    "    features = extract_features(df, name)\n",
    "    all_features.extend(features)\n",
    "\n",
    "features_df = pd.DataFrame(all_features)"
   ]
  },
  {
   "cell_type": "code",
   "execution_count": 22,
   "id": "7284c2a6",
   "metadata": {},
   "outputs": [],
   "source": [
    "features_df.head()\n",
    "\n",
    "features_df.to_csv('network_traffic_features.csv', index=False)"
   ]
  }
 ],
 "metadata": {
  "kernelspec": {
   "display_name": "base",
   "language": "python",
   "name": "python3"
  },
  "language_info": {
   "codemirror_mode": {
    "name": "ipython",
    "version": 3
   },
   "file_extension": ".py",
   "mimetype": "text/x-python",
   "name": "python",
   "nbconvert_exporter": "python",
   "pygments_lexer": "ipython3",
   "version": "3.9.13"
  }
 },
 "nbformat": 4,
 "nbformat_minor": 5
}
